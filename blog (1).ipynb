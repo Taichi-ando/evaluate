{
  "nbformat": 4,
  "nbformat_minor": 0,
  "metadata": {
    "colab": {
      "name": "blog.ipynb",
      "provenance": []
    },
    "kernelspec": {
      "name": "python3",
      "display_name": "Python 3"
    },
    "language_info": {
      "name": "python"
    },
    "accelerator": "GPU"
  },
  "cells": [
    {
      "cell_type": "markdown",
      "source": [
        "#Hugging faceの新ライブラリ「Evaluate」を使ってみた。\n",
        "\n"
      ],
      "metadata": {
        "id": "t7vE-VNh8jok"
      }
    },
    {
      "cell_type": "markdown",
      "source": [
        "こんにちは。PlayGroundのデータコースに所属している安藤太一です。\n",
        "NLPモデルのライブラリ「transformers」などで有名なHugging face社が最近新しいライブラリ、「Evaluate」を発表したので、使ってみようと思います。\n"
      ],
      "metadata": {
        "id": "9vgdpKvi8tcK"
      }
    },
    {
      "cell_type": "markdown",
      "source": [
        "#目次\n",
        "\n",
        "\n",
        "*  Evaluateとは\n",
        "\n",
        "*  基本的な評価値の計算\n",
        "*  Evaluatorを使う\n",
        "\n",
        "\n",
        "*  まとめ\n",
        "\n",
        "\n",
        "*  参考文献\n",
        "\n",
        "\n",
        "\n",
        "\n"
      ],
      "metadata": {
        "id": "TwOY9BV0ETts"
      }
    },
    {
      "cell_type": "markdown",
      "source": [
        "#Evaluateとは\n",
        "Evaluateはモデルの評価や比較、性能のレポートをより簡単に、標準的に行うためのライブラリです。\n",
        "既存のメトリクスはNLP（自然言語処理）からCV(Computer Vision)まで幅広く揃えているそうです。（datasetsやevaluateなどhuggingfaceのライブラリは名前がシンプルで、これからの機械学習のスタンダードを担おうという意志が感じられます。実際このevaluateも先にPyPiで登録されていたライブラリがありましたが、名前を譲ってもらったそうです。)\n",
        "\n",
        "早速使いながら説明していきます。"
      ],
      "metadata": {
        "id": "FmYAeJpa-B2C"
      }
    },
    {
      "cell_type": "markdown",
      "source": [
        "pipでインストール\n",
        "\n",
        "\n",
        "(google colabでは、scipyのバージョンを1.7.1以上に上げる必要があります。)"
      ],
      "metadata": {
        "id": "gHkdPStU96sO"
      }
    },
    {
      "cell_type": "code",
      "source": [
        "!pip install scipy==1.7.1"
      ],
      "metadata": {
        "colab": {
          "base_uri": "https://localhost:8080/"
        },
        "id": "emZ6TGy_KwFl",
        "outputId": "1254007f-d5f6-49f9-8f12-32d223c4e0a6"
      },
      "execution_count": 1,
      "outputs": [
        {
          "output_type": "stream",
          "name": "stdout",
          "text": [
            "Looking in indexes: https://pypi.org/simple, https://us-python.pkg.dev/colab-wheels/public/simple/\n",
            "Requirement already satisfied: scipy==1.7.1 in /usr/local/lib/python3.7/dist-packages (1.7.1)\n",
            "Requirement already satisfied: numpy<1.23.0,>=1.16.5 in /usr/local/lib/python3.7/dist-packages (from scipy==1.7.1) (1.21.6)\n"
          ]
        }
      ]
    },
    {
      "cell_type": "code",
      "source": [
        "!pip install -qqq evaluate"
      ],
      "metadata": {
        "id": "KrVTx2zU8KXR"
      },
      "execution_count": 2,
      "outputs": []
    },
    {
      "cell_type": "code",
      "source": [
        "import evaluate"
      ],
      "metadata": {
        "id": "yWIC3wvk8Pug"
      },
      "execution_count": 3,
      "outputs": []
    },
    {
      "cell_type": "markdown",
      "source": [
        "公式の現在使用可能なメトリクス（評価指標）を確認してみます。"
      ],
      "metadata": {
        "id": "6_BC3MCJ_vm3"
      }
    },
    {
      "cell_type": "code",
      "source": [
        "evaluate.list_evaluation_modules(module_type=\"metric\", include_community=False, with_details=True)"
      ],
      "metadata": {
        "colab": {
          "base_uri": "https://localhost:8080/"
        },
        "id": "aFf_C6qS8cYv",
        "outputId": "5e45b2a3-b977-40a4-c926-73781a9003b5"
      },
      "execution_count": 4,
      "outputs": [
        {
          "output_type": "execute_result",
          "data": {
            "text/plain": [
              "[{'community': False, 'likes': 0, 'name': 'precision', 'type': 'metric'},\n",
              " {'community': False, 'likes': 0, 'name': 'code_eval', 'type': 'metric'},\n",
              " {'community': False, 'likes': 0, 'name': 'roc_auc', 'type': 'metric'},\n",
              " {'community': False, 'likes': 0, 'name': 'cuad', 'type': 'metric'},\n",
              " {'community': False, 'likes': 0, 'name': 'xnli', 'type': 'metric'},\n",
              " {'community': False, 'likes': 0, 'name': 'rouge', 'type': 'metric'},\n",
              " {'community': False, 'likes': 0, 'name': 'pearsonr', 'type': 'metric'},\n",
              " {'community': False, 'likes': 0, 'name': 'mse', 'type': 'metric'},\n",
              " {'community': False, 'likes': 0, 'name': 'super_glue', 'type': 'metric'},\n",
              " {'community': False, 'likes': 0, 'name': 'comet', 'type': 'metric'},\n",
              " {'community': False, 'likes': 0, 'name': 'cer', 'type': 'metric'},\n",
              " {'community': False, 'likes': 0, 'name': 'sacrebleu', 'type': 'metric'},\n",
              " {'community': False, 'likes': 0, 'name': 'mahalanobis', 'type': 'metric'},\n",
              " {'community': False, 'likes': 0, 'name': 'wer', 'type': 'metric'},\n",
              " {'community': False,\n",
              "  'likes': 0,\n",
              "  'name': 'competition_math',\n",
              "  'type': 'metric'},\n",
              " {'community': False, 'likes': 0, 'name': 'f1', 'type': 'metric'},\n",
              " {'community': False, 'likes': 0, 'name': 'recall', 'type': 'metric'},\n",
              " {'community': False, 'likes': 0, 'name': 'coval', 'type': 'metric'},\n",
              " {'community': False, 'likes': 0, 'name': 'mauve', 'type': 'metric'},\n",
              " {'community': False, 'likes': 0, 'name': 'xtreme_s', 'type': 'metric'},\n",
              " {'community': False, 'likes': 0, 'name': 'bleurt', 'type': 'metric'},\n",
              " {'community': False, 'likes': 0, 'name': 'ter', 'type': 'metric'},\n",
              " {'community': False, 'likes': 0, 'name': 'accuracy', 'type': 'metric'},\n",
              " {'community': False, 'likes': 0, 'name': 'exact_match', 'type': 'metric'},\n",
              " {'community': False, 'likes': 0, 'name': 'indic_glue', 'type': 'metric'},\n",
              " {'community': False, 'likes': 0, 'name': 'spearmanr', 'type': 'metric'},\n",
              " {'community': False, 'likes': 0, 'name': 'mae', 'type': 'metric'},\n",
              " {'community': False, 'likes': 0, 'name': 'squad', 'type': 'metric'},\n",
              " {'community': False, 'likes': 0, 'name': 'chrf', 'type': 'metric'},\n",
              " {'community': False, 'likes': 0, 'name': 'glue', 'type': 'metric'},\n",
              " {'community': False, 'likes': 0, 'name': 'perplexity', 'type': 'metric'},\n",
              " {'community': False, 'likes': 0, 'name': 'mean_iou', 'type': 'metric'},\n",
              " {'community': False, 'likes': 0, 'name': 'squad_v2', 'type': 'metric'},\n",
              " {'community': False, 'likes': 0, 'name': 'meteor', 'type': 'metric'},\n",
              " {'community': False, 'likes': 0, 'name': 'bleu', 'type': 'metric'},\n",
              " {'community': False, 'likes': 0, 'name': 'wiki_split', 'type': 'metric'},\n",
              " {'community': False, 'likes': 0, 'name': 'sari', 'type': 'metric'},\n",
              " {'community': False, 'likes': 0, 'name': 'frugalscore', 'type': 'metric'},\n",
              " {'community': False, 'likes': 0, 'name': 'google_bleu', 'type': 'metric'},\n",
              " {'community': False, 'likes': 0, 'name': 'bertscore', 'type': 'metric'},\n",
              " {'community': False,\n",
              "  'likes': 1,\n",
              "  'name': 'matthews_correlation',\n",
              "  'type': 'metric'},\n",
              " {'community': False, 'likes': 0, 'name': 'seqeval', 'type': 'metric'},\n",
              " {'community': False, 'likes': 2, 'name': 'trec_eval', 'type': 'metric'},\n",
              " {'community': False, 'likes': 0, 'name': 'rl_reliability', 'type': 'metric'}]"
            ]
          },
          "metadata": {},
          "execution_count": 4
        }
      ]
    },
    {
      "cell_type": "markdown",
      "source": [
        "よく使われる基本的な評価指標であるMAEやaccuracyから、自然言語処理で使われるBLEU、BERTScoreのような専門的な指標まで使えるようです。"
      ],
      "metadata": {
        "id": "U7_bG9pyAAO7"
      }
    },
    {
      "cell_type": "markdown",
      "source": [
        "ここでは、例としてMAE(Mean Abusolute Error)を計算するモジュールをロードしてみましょう。（できたてほやほやのライブラリであるからか、'mae'と名のつくディレクトリがないと言われていますが、GitHubのマスターブランチから持ってきてくれるみたいです。）"
      ],
      "metadata": {
        "id": "6DRKfmnBBqZn"
      }
    },
    {
      "cell_type": "code",
      "source": [
        "mae = evaluate.load(\"mae\")"
      ],
      "metadata": {
        "colab": {
          "base_uri": "https://localhost:8080/"
        },
        "id": "axwXhNnZ_7EH",
        "outputId": "be749bae-ad5d-41ae-bb1e-96132d248260"
      },
      "execution_count": 5,
      "outputs": [
        {
          "output_type": "stream",
          "name": "stderr",
          "text": [
            "Couldn't find a directory or a metric named 'mae' in this version. It was picked from the master branch on github instead.\n"
          ]
        }
      ]
    },
    {
      "cell_type": "markdown",
      "source": [
        "`mae.description`で評価指標の簡単な説明を見ることができます。また、`mae.reference_urls`でReferenceのURLも出力することもできます。\n",
        "\n",
        "使用している指標の性質や、詳細が知りたくなってググるのはよくあることなのでちょっと嬉しいです。"
      ],
      "metadata": {
        "id": "VR7_ybuRD0HP"
      }
    },
    {
      "cell_type": "code",
      "source": [
        "mae.description"
      ],
      "metadata": {
        "colab": {
          "base_uri": "https://localhost:8080/",
          "height": 53
        },
        "id": "8SluYl7UB9L2",
        "outputId": "f8534936-f08a-4e0c-a952-446a35513782"
      },
      "execution_count": 6,
      "outputs": [
        {
          "output_type": "execute_result",
          "data": {
            "text/plain": [
              "'Mean Absolute Error (MAE) is the mean of the magnitude of difference between the predicted and actual\\nvalues.\\n'"
            ],
            "application/vnd.google.colaboratory.intrinsic+json": {
              "type": "string"
            }
          },
          "metadata": {},
          "execution_count": 6
        }
      ]
    },
    {
      "cell_type": "code",
      "source": [
        "mae.reference_urls"
      ],
      "metadata": {
        "colab": {
          "base_uri": "https://localhost:8080/"
        },
        "id": "g5aA1VvuE86y",
        "outputId": "2a9fd169-8360-4b66-d7f8-6490d75bb7df"
      },
      "execution_count": 7,
      "outputs": [
        {
          "output_type": "execute_result",
          "data": {
            "text/plain": [
              "['https://scikit-learn.org/stable/modules/generated/sklearn.metrics.mean_absolute_error.html']"
            ]
          },
          "metadata": {},
          "execution_count": 7
        }
      ]
    },
    {
      "cell_type": "markdown",
      "source": [
        "##基本的な評価値の計算\n",
        "では早速評価値を計算していきましょう。\n",
        "ドキュメントによると、評価値を計算する方法は\n",
        "\n",
        "\n",
        "\n",
        "1.   All-in-one\n",
        "2.   Incremental\n",
        "\n",
        "の2つがあるようです。\n",
        "All-in-oneは、`compute()`に必要な引数を一度に渡して計算する方法で、Incrementalは`add()`や`add_batch()`を使って、予測値を保存しておき、最後に`compute()`に渡して計算する方法です。\n",
        "深層学習モデルなど、バッチサイズでfor文を用いて繰り返し予測値を構築し、一度に評価するときにこの方法が有効になってきます。\n",
        "\n"
      ],
      "metadata": {
        "id": "0JJiAtdKbAbC"
      }
    },
    {
      "cell_type": "markdown",
      "source": [
        "まずは、All-in-one方式を試してみます。`compute()`の引数`references`に正解データを、`predictions`に予測データを設定します。"
      ],
      "metadata": {
        "id": "anLGSrGN_KIk"
      }
    },
    {
      "cell_type": "code",
      "source": [
        "mae.compute(references=[1, 2, 3, 4], predictions=[1, 1, 1, 1])"
      ],
      "metadata": {
        "colab": {
          "base_uri": "https://localhost:8080/"
        },
        "id": "QL7tLZ2JE_9x",
        "outputId": "582cef72-a3d9-4269-b91a-65c2aa9ae3f4"
      },
      "execution_count": 8,
      "outputs": [
        {
          "output_type": "execute_result",
          "data": {
            "text/plain": [
              "{'mae': 1.5}"
            ]
          },
          "metadata": {},
          "execution_count": 8
        }
      ]
    },
    {
      "cell_type": "markdown",
      "source": [
        "辞書型でmaeが返ってきました。\n",
        "\n",
        "次に、Incremental方式を試します。\n",
        "以下のコードでは、for文で正解データと予測データを回し、`add()`で予測値を保持しておき最後に評価を実行しています。"
      ],
      "metadata": {
        "id": "Qo1vK1Nj_4Ws"
      }
    },
    {
      "cell_type": "code",
      "source": [
        "for ref, pred in zip([1, 2, 3, 4], [1, 1, 1, 1]):\n",
        "  mae.add(references=ref, predictions=pred)\n",
        "mae.compute()"
      ],
      "metadata": {
        "colab": {
          "base_uri": "https://localhost:8080/"
        },
        "id": "vHfraea9_peP",
        "outputId": "8b6eaeb7-1cc2-474b-97a9-22e79305344c"
      },
      "execution_count": 9,
      "outputs": [
        {
          "output_type": "execute_result",
          "data": {
            "text/plain": [
              "{'mae': 1.5}"
            ]
          },
          "metadata": {},
          "execution_count": 9
        }
      ]
    },
    {
      "cell_type": "markdown",
      "source": [
        "##Evaluatorを使う\n",
        "上記の２つの方法では、予測値を自分で計算して用意する必要がありましたが、`evaluate.evaluator()`を使うと、モデルとデータセットを用意し、メトリクスを設定するだけで内部で推論を実行し評価値を出力することができます。ここでは、チュートリアルに従い、テキスト分類を行うモデルを用意してevaluate.`evaluator()`を使ってみます。transformersのpipelineに従う限り、好きなフレームワークを使用することができるようです。(pipelineは複雑なモデルを抽象化し、たった数行で推論APIを構築できるライブラリです。)"
      ],
      "metadata": {
        "id": "vP4NLShlDY9_"
      }
    },
    {
      "cell_type": "code",
      "source": [
        "!pip install -qqq transformers datasets\n",
        "!pip install -qqq evaluate[evaluator]\n",
        "from transformers import pipeline\n",
        "from datasets import load_dataset\n",
        "from evaluate import evaluator\n",
        "\n",
        "#テキスト分類を行うパイプラインをロード\n",
        "pipe = pipeline(\"text-classification\", model=\"lvwerra/distilbert-imdb\", device=0)\n",
        "#テストデータをロード\n",
        "data = load_dataset(\"imdb\", split=\"test\").shuffle().select(range(1000))\n",
        "#メトリクスを設定\n",
        "metric = evaluate.load(\"accuracy\")\n",
        "\n",
        "#evaluatorを定義\n",
        "eval = evaluator(\"text-classification\")\n",
        "#スコアを計算\n",
        "results = eval.compute(model_or_pipeline=pipe, data=data, metric=metric,\n",
        "                       label_mapping={\"NEGATIVE\": 0, \"POSITIVE\": 1},)\n",
        "\n",
        "print(results)"
      ],
      "metadata": {
        "colab": {
          "base_uri": "https://localhost:8080/"
        },
        "id": "v98SetOIAtL5",
        "outputId": "61deee4d-e076-480a-9b79-a83b65c08f26"
      },
      "execution_count": 10,
      "outputs": [
        {
          "output_type": "stream",
          "name": "stdout",
          "text": [
            "\u001b[31mERROR: Could not find a version that satisfies the requirement transformersscipy>=1.7.1; extra == \"evaluator\" (from evaluate[evaluator]) (from versions: none)\u001b[0m\n",
            "\u001b[31mERROR: No matching distribution found for transformersscipy>=1.7.1; extra == \"evaluator\"\u001b[0m\n"
          ]
        },
        {
          "output_type": "stream",
          "name": "stderr",
          "text": [
            "Reusing dataset imdb (/root/.cache/huggingface/datasets/imdb/plain_text/1.0.0/2fdd8b9bcadd6e7055e742a706876ba43f19faee861df134affd7a3f60fc38a1)\n",
            "Couldn't find a directory or a metric named 'accuracy' in this version. It was picked from the master branch on github instead.\n"
          ]
        },
        {
          "output_type": "stream",
          "name": "stdout",
          "text": [
            "{'accuracy': 0.927}\n"
          ]
        }
      ]
    },
    {
      "cell_type": "markdown",
      "source": [
        "また、モデル間の比較をするために、ブートストラップ法を用いてスコアの信頼区間や標準誤差を計算することもできます。"
      ],
      "metadata": {
        "id": "xbx8jgWDLi2C"
      }
    },
    {
      "cell_type": "code",
      "source": [
        "#引数strategyにboostrapを設定し、n_resamplesに復元抽出をする際のサンプルサイズを設定\n",
        "results = eval.compute(model_or_pipeline=pipe, data=data, metric=metric,\n",
        "                       label_mapping={\"NEGATIVE\": 0, \"POSITIVE\": 1},\n",
        "                       strategy=\"bootstrap\", n_resamples=200)\n",
        "\n",
        "print(results)"
      ],
      "metadata": {
        "colab": {
          "base_uri": "https://localhost:8080/"
        },
        "id": "sqD_kTj9I64N",
        "outputId": "7eefef81-96f5-4aa5-e1a1-8d995de63e93"
      },
      "execution_count": 11,
      "outputs": [
        {
          "output_type": "stream",
          "name": "stdout",
          "text": [
            "{'accuracy': {'confidence_interval': (0.908781865486257, 0.9418386604232667), 'standard_error': 0.009033716854152826, 'score': 0.927}}\n"
          ]
        }
      ]
    },
    {
      "cell_type": "markdown",
      "source": [
        "##まとめ\n",
        "以上がEvaluateの基本的な使い方になります。\n",
        "Evaluateにはこれ以外にも、オリジナルの評価指標を作成して、Hugging face Hubにアップロードし、共有する機能もあるので今度はその機能をブログに書こうと思います。読んでいただきありがとうございました。"
      ],
      "metadata": {
        "id": "T_hVVBPdQ5ap"
      }
    },
    {
      "cell_type": "markdown",
      "source": [
        "##参考文献\n",
        "Evaluate:https://huggingface.co/docs/evaluate/index"
      ],
      "metadata": {
        "id": "1_cxxPb9R2dc"
      }
    }
  ]
}